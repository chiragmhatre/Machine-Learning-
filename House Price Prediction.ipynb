{
 "cells": [
  {
   "cell_type": "code",
   "execution_count": 1,
   "metadata": {},
   "outputs": [],
   "source": [
    "import tensorflow as tf\n",
    "import pandas as pd\n",
    "import matplotlib.pyplot as plt"
   ]
  },
  {
   "cell_type": "code",
   "execution_count": 2,
   "metadata": {},
   "outputs": [],
   "source": [
    "df = pd.read_csv('Data.csv')"
   ]
  },
  {
   "cell_type": "code",
   "execution_count": 3,
   "metadata": {},
   "outputs": [
    {
     "data": {
      "text/plain": [
       "0      24.0\n",
       "1      21.6\n",
       "2      34.7\n",
       "3      33.4\n",
       "4      36.2\n",
       "       ... \n",
       "501    22.4\n",
       "502    20.6\n",
       "503    23.9\n",
       "504    22.0\n",
       "505    11.9\n",
       "Name: MEDV, Length: 506, dtype: float64"
      ]
     },
     "execution_count": 3,
     "metadata": {},
     "output_type": "execute_result"
    }
   ],
   "source": [
    "Labels = df.pop('MEDV')\n",
    "Labels"
   ]
  },
  {
   "cell_type": "code",
   "execution_count": 4,
   "metadata": {},
   "outputs": [],
   "source": [
    "Categorical_columns = ['CHAS' , 'RAD']\n",
    "Numeric_columns = [i for i in df if i not in Categorical_columns]"
   ]
  },
  {
   "cell_type": "code",
   "execution_count": 5,
   "metadata": {},
   "outputs": [
    {
     "data": {
      "text/plain": [
       "['CRIM',\n",
       " 'ZN',\n",
       " 'INDUS',\n",
       " 'NOX',\n",
       " 'RM',\n",
       " 'AGE',\n",
       " 'DIS',\n",
       " 'TAX',\n",
       " 'PTRATIO',\n",
       " 'B',\n",
       " 'LSTAT']"
      ]
     },
     "execution_count": 5,
     "metadata": {},
     "output_type": "execute_result"
    }
   ],
   "source": [
    "Numeric_columns"
   ]
  },
  {
   "cell_type": "code",
   "execution_count": 6,
   "metadata": {},
   "outputs": [],
   "source": [
    "feature_column = []\n",
    "for feature_name in Categorical_columns:\n",
    "    vocabulary = df[feature_name].unique()\n",
    "    feature_column.append(tf.feature_column.categorical_column_with_vocabulary_list(feature_name , vocabulary))\n",
    "for feature_name in Numeric_columns:\n",
    "    feature_column.append(tf.feature_column.numeric_column(feature_name , dtype = tf.float32))"
   ]
  },
  {
   "cell_type": "code",
   "execution_count": 7,
   "metadata": {},
   "outputs": [],
   "source": [
    "def input_fn(df , Labels , epochs = 1000 , shuffle = True , batch_size = 50):\n",
    "    ds = tf.data.Dataset.from_tensor_slices((dict(df) , Labels))\n",
    "    if shuffle:\n",
    "        ds = ds.shuffle(1000)\n",
    "    ds = ds.batch(batch_size).repeat(epochs)\n",
    "    return ds\n",
    "    \n"
   ]
  },
  {
   "cell_type": "code",
   "execution_count": 8,
   "metadata": {},
   "outputs": [],
   "source": [
    "from sklearn.model_selection import train_test_split\n",
    "xtrain , xtest , ytrain , ytest = train_test_split(df , Labels, test_size = 0.22)"
   ]
  },
  {
   "cell_type": "code",
   "execution_count": 9,
   "metadata": {},
   "outputs": [
    {
     "name": "stdout",
     "output_type": "stream",
     "text": [
      "INFO:tensorflow:Using default config.\n",
      "WARNING:tensorflow:Using temporary folder as model directory: C:\\Users\\mhatr\\AppData\\Local\\Temp\\tmp1dmo7nxn\n",
      "INFO:tensorflow:Using config: {'_model_dir': 'C:\\\\Users\\\\mhatr\\\\AppData\\\\Local\\\\Temp\\\\tmp1dmo7nxn', '_tf_random_seed': None, '_save_summary_steps': 100, '_save_checkpoints_steps': None, '_save_checkpoints_secs': 600, '_session_config': allow_soft_placement: true\n",
      "graph_options {\n",
      "  rewrite_options {\n",
      "    meta_optimizer_iterations: ONE\n",
      "  }\n",
      "}\n",
      ", '_keep_checkpoint_max': 5, '_keep_checkpoint_every_n_hours': 10000, '_log_step_count_steps': 100, '_train_distribute': None, '_device_fn': None, '_protocol': None, '_eval_distribute': None, '_experimental_distribute': None, '_experimental_max_worker_delay_secs': None, '_session_creation_timeout_secs': 7200, '_checkpoint_save_graph_def': True, '_service': None, '_cluster_spec': ClusterSpec({}), '_task_type': 'worker', '_task_id': 0, '_global_id_in_cluster': 0, '_master': '', '_evaluation_master': '', '_is_chief': True, '_num_ps_replicas': 0, '_num_worker_replicas': 1}\n"
     ]
    }
   ],
   "source": [
    "linear_est = tf.estimator.LinearRegressor(feature_columns = feature_column)"
   ]
  },
  {
   "cell_type": "code",
   "execution_count": 10,
   "metadata": {},
   "outputs": [
    {
     "name": "stdout",
     "output_type": "stream",
     "text": [
      "WARNING:tensorflow:From C:\\Users\\mhatr\\anaconda3\\lib\\site-packages\\tensorflow\\python\\training\\training_util.py:235: Variable.initialized_value (from tensorflow.python.ops.variables) is deprecated and will be removed in a future version.\n",
      "Instructions for updating:\n",
      "Use Variable.read_value. Variables in 2.X are initialized automatically both in eager and graph (inside tf.defun) contexts.\n",
      "INFO:tensorflow:Calling model_fn.\n"
     ]
    },
    {
     "name": "stderr",
     "output_type": "stream",
     "text": [
      "C:\\Users\\mhatr\\anaconda3\\lib\\site-packages\\tensorflow\\python\\keras\\engine\\base_layer_v1.py:1727: UserWarning: `layer.add_variable` is deprecated and will be removed in a future version. Please use `layer.add_weight` method instead.\n",
      "  warnings.warn('`layer.add_variable` is deprecated and '\n"
     ]
    },
    {
     "name": "stdout",
     "output_type": "stream",
     "text": [
      "WARNING:tensorflow:From C:\\Users\\mhatr\\anaconda3\\lib\\site-packages\\tensorflow\\python\\keras\\optimizer_v2\\ftrl.py:133: calling Constant.__init__ (from tensorflow.python.ops.init_ops) with dtype is deprecated and will be removed in a future version.\n",
      "Instructions for updating:\n",
      "Call initializer instance with the dtype argument instead of passing it to the constructor\n",
      "INFO:tensorflow:Done calling model_fn.\n",
      "INFO:tensorflow:Create CheckpointSaverHook.\n",
      "INFO:tensorflow:Graph was finalized.\n",
      "INFO:tensorflow:Running local_init_op.\n",
      "INFO:tensorflow:Done running local_init_op.\n",
      "INFO:tensorflow:Calling checkpoint listeners before saving checkpoint 0...\n",
      "INFO:tensorflow:Saving checkpoints for 0 into C:\\Users\\mhatr\\AppData\\Local\\Temp\\tmp1dmo7nxn\\model.ckpt.\n",
      "INFO:tensorflow:Calling checkpoint listeners after saving checkpoint 0...\n",
      "INFO:tensorflow:loss = 587.2084, step = 0\n",
      "INFO:tensorflow:global_step/sec: 197.766\n",
      "INFO:tensorflow:loss = 79.94933, step = 100 (0.508 sec)\n",
      "INFO:tensorflow:global_step/sec: 508.974\n",
      "INFO:tensorflow:loss = 24.880564, step = 200 (0.196 sec)\n",
      "INFO:tensorflow:global_step/sec: 505.597\n",
      "INFO:tensorflow:loss = 48.65859, step = 300 (0.197 sec)\n",
      "INFO:tensorflow:global_step/sec: 553.945\n",
      "INFO:tensorflow:loss = 54.754494, step = 400 (0.182 sec)\n",
      "INFO:tensorflow:global_step/sec: 478.258\n",
      "INFO:tensorflow:loss = 50.6537, step = 500 (0.210 sec)\n",
      "INFO:tensorflow:global_step/sec: 486.737\n",
      "INFO:tensorflow:loss = 46.551224, step = 600 (0.204 sec)\n",
      "INFO:tensorflow:global_step/sec: 501.335\n",
      "INFO:tensorflow:loss = 51.572773, step = 700 (0.200 sec)\n",
      "INFO:tensorflow:global_step/sec: 441.706\n",
      "INFO:tensorflow:loss = 73.635155, step = 800 (0.225 sec)\n",
      "INFO:tensorflow:global_step/sec: 553.964\n",
      "INFO:tensorflow:loss = 34.42132, step = 900 (0.180 sec)\n",
      "INFO:tensorflow:global_step/sec: 506.404\n",
      "INFO:tensorflow:loss = 40.491783, step = 1000 (0.198 sec)\n",
      "INFO:tensorflow:global_step/sec: 503.751\n",
      "INFO:tensorflow:loss = 29.03315, step = 1100 (0.200 sec)\n",
      "INFO:tensorflow:global_step/sec: 536.217\n",
      "INFO:tensorflow:loss = 36.808178, step = 1200 (0.185 sec)\n",
      "INFO:tensorflow:global_step/sec: 546\n",
      "INFO:tensorflow:loss = 31.423906, step = 1300 (0.182 sec)\n",
      "INFO:tensorflow:global_step/sec: 486.736\n",
      "INFO:tensorflow:loss = 26.902283, step = 1400 (0.206 sec)\n",
      "INFO:tensorflow:global_step/sec: 501.333\n",
      "INFO:tensorflow:loss = 34.951485, step = 1500 (0.198 sec)\n",
      "INFO:tensorflow:global_step/sec: 600.409\n",
      "INFO:tensorflow:loss = 29.663715, step = 1600 (0.168 sec)\n",
      "INFO:tensorflow:global_step/sec: 622.777\n",
      "INFO:tensorflow:loss = 40.28551, step = 1700 (0.160 sec)\n",
      "INFO:tensorflow:global_step/sec: 622.784\n",
      "INFO:tensorflow:loss = 24.436516, step = 1800 (0.162 sec)\n",
      "INFO:tensorflow:global_step/sec: 567.635\n",
      "INFO:tensorflow:loss = 32.870285, step = 1900 (0.176 sec)\n",
      "INFO:tensorflow:global_step/sec: 511.529\n",
      "INFO:tensorflow:loss = 26.735292, step = 2000 (0.196 sec)\n",
      "INFO:tensorflow:global_step/sec: 615.169\n",
      "INFO:tensorflow:loss = 24.084557, step = 2100 (0.161 sec)\n",
      "INFO:tensorflow:global_step/sec: 600.406\n",
      "INFO:tensorflow:loss = 13.194795, step = 2200 (0.167 sec)\n",
      "INFO:tensorflow:global_step/sec: 626.668\n",
      "INFO:tensorflow:loss = 39.94372, step = 2300 (0.160 sec)\n",
      "INFO:tensorflow:global_step/sec: 615.139\n",
      "INFO:tensorflow:loss = 61.727833, step = 2400 (0.163 sec)\n",
      "INFO:tensorflow:global_step/sec: 569.703\n",
      "INFO:tensorflow:loss = 26.246538, step = 2500 (0.176 sec)\n",
      "INFO:tensorflow:global_step/sec: 582.949\n",
      "INFO:tensorflow:loss = 23.983356, step = 2600 (0.174 sec)\n",
      "INFO:tensorflow:global_step/sec: 539.801\n",
      "INFO:tensorflow:loss = 36.71737, step = 2700 (0.185 sec)\n",
      "INFO:tensorflow:global_step/sec: 586.361\n",
      "INFO:tensorflow:loss = 31.794062, step = 2800 (0.170 sec)\n",
      "INFO:tensorflow:global_step/sec: 621.89\n",
      "INFO:tensorflow:loss = 21.574757, step = 2900 (0.161 sec)\n",
      "INFO:tensorflow:global_step/sec: 615.135\n",
      "INFO:tensorflow:loss = 11.950878, step = 3000 (0.162 sec)\n",
      "INFO:tensorflow:global_step/sec: 622.78\n",
      "INFO:tensorflow:loss = 24.998018, step = 3100 (0.161 sec)\n",
      "INFO:tensorflow:global_step/sec: 576.253\n",
      "INFO:tensorflow:loss = 20.609158, step = 3200 (0.174 sec)\n",
      "INFO:tensorflow:global_step/sec: 524.954\n",
      "INFO:tensorflow:loss = 27.562658, step = 3300 (0.193 sec)\n",
      "INFO:tensorflow:global_step/sec: 604.03\n",
      "INFO:tensorflow:loss = 21.246084, step = 3400 (0.164 sec)\n",
      "INFO:tensorflow:global_step/sec: 615.131\n",
      "INFO:tensorflow:loss = 27.286877, step = 3500 (0.162 sec)\n",
      "INFO:tensorflow:global_step/sec: 616.59\n",
      "INFO:tensorflow:loss = 42.59061, step = 3600 (0.162 sec)\n",
      "INFO:tensorflow:global_step/sec: 626.671\n",
      "INFO:tensorflow:loss = 34.226498, step = 3700 (0.160 sec)\n",
      "INFO:tensorflow:global_step/sec: 521.341\n",
      "INFO:tensorflow:loss = 22.6595, step = 3800 (0.193 sec)\n",
      "INFO:tensorflow:global_step/sec: 568.044\n",
      "INFO:tensorflow:loss = 22.365362, step = 3900 (0.175 sec)\n",
      "INFO:tensorflow:global_step/sec: 611.39\n",
      "INFO:tensorflow:loss = 18.009108, step = 4000 (0.165 sec)\n",
      "INFO:tensorflow:global_step/sec: 611.386\n",
      "INFO:tensorflow:loss = 22.504463, step = 4100 (0.164 sec)\n",
      "INFO:tensorflow:global_step/sec: 611.391\n",
      "INFO:tensorflow:loss = 30.734058, step = 4200 (0.163 sec)\n",
      "INFO:tensorflow:global_step/sec: 579.541\n",
      "INFO:tensorflow:loss = 24.512335, step = 4300 (0.176 sec)\n",
      "INFO:tensorflow:global_step/sec: 539.103\n",
      "INFO:tensorflow:loss = 19.49147, step = 4400 (0.184 sec)\n",
      "INFO:tensorflow:global_step/sec: 608.368\n",
      "INFO:tensorflow:loss = 18.121693, step = 4500 (0.164 sec)\n",
      "INFO:tensorflow:global_step/sec: 611.382\n",
      "INFO:tensorflow:loss = 36.512142, step = 4600 (0.163 sec)\n",
      "INFO:tensorflow:global_step/sec: 622.019\n",
      "INFO:tensorflow:loss = 17.345083, step = 4700 (0.161 sec)\n",
      "INFO:tensorflow:global_step/sec: 586.361\n",
      "INFO:tensorflow:loss = 37.383617, step = 4800 (0.171 sec)\n",
      "INFO:tensorflow:global_step/sec: 508.974\n",
      "INFO:tensorflow:loss = 26.681335, step = 4900 (0.196 sec)\n",
      "INFO:tensorflow:global_step/sec: 443.659\n",
      "INFO:tensorflow:loss = 22.728823, step = 5000 (0.226 sec)\n",
      "INFO:tensorflow:global_step/sec: 455.76\n",
      "INFO:tensorflow:loss = 32.974075, step = 5100 (0.219 sec)\n",
      "INFO:tensorflow:global_step/sec: 550.896\n",
      "INFO:tensorflow:loss = 19.330208, step = 5200 (0.182 sec)\n",
      "INFO:tensorflow:global_step/sec: 632.493\n",
      "INFO:tensorflow:loss = 43.55054, step = 5300 (0.158 sec)\n",
      "INFO:tensorflow:global_step/sec: 611.387\n",
      "INFO:tensorflow:loss = 59.664448, step = 5400 (0.164 sec)\n",
      "INFO:tensorflow:global_step/sec: 545.921\n",
      "INFO:tensorflow:loss = 29.587925, step = 5500 (0.183 sec)\n",
      "INFO:tensorflow:global_step/sec: 536.194\n",
      "INFO:tensorflow:loss = 26.11867, step = 5600 (0.186 sec)\n",
      "INFO:tensorflow:global_step/sec: 604.016\n",
      "INFO:tensorflow:loss = 20.761171, step = 5700 (0.167 sec)\n",
      "INFO:tensorflow:global_step/sec: 593.3\n",
      "INFO:tensorflow:loss = 23.652498, step = 5800 (0.169 sec)\n",
      "INFO:tensorflow:global_step/sec: 539.068\n",
      "INFO:tensorflow:loss = 18.733513, step = 5900 (0.186 sec)\n",
      "INFO:tensorflow:global_step/sec: 607.681\n",
      "INFO:tensorflow:loss = 17.395418, step = 6000 (0.164 sec)\n",
      "INFO:tensorflow:global_step/sec: 624.666\n",
      "INFO:tensorflow:loss = 35.658848, step = 6100 (0.161 sec)\n",
      "INFO:tensorflow:global_step/sec: 533.337\n",
      "INFO:tensorflow:loss = 30.762611, step = 6200 (0.187 sec)\n",
      "INFO:tensorflow:global_step/sec: 592.536\n",
      "INFO:tensorflow:loss = 38.358803, step = 6300 (0.168 sec)\n",
      "INFO:tensorflow:global_step/sec: 623.532\n",
      "INFO:tensorflow:loss = 23.472767, step = 6400 (0.161 sec)\n",
      "INFO:tensorflow:global_step/sec: 550.912\n",
      "INFO:tensorflow:loss = 13.813524, step = 6500 (0.182 sec)\n",
      "INFO:tensorflow:global_step/sec: 576.258\n",
      "INFO:tensorflow:loss = 22.762705, step = 6600 (0.174 sec)\n",
      "INFO:tensorflow:global_step/sec: 622.772\n",
      "INFO:tensorflow:loss = 21.907486, step = 6700 (0.160 sec)\n",
      "INFO:tensorflow:global_step/sec: 596.82\n",
      "INFO:tensorflow:loss = 30.368664, step = 6800 (0.169 sec)\n",
      "INFO:tensorflow:global_step/sec: 511.575\n",
      "INFO:tensorflow:loss = 13.600306, step = 6900 (0.196 sec)\n",
      "INFO:tensorflow:global_step/sec: 618.938\n",
      "INFO:tensorflow:loss = 21.917637, step = 7000 (0.160 sec)\n",
      "INFO:tensorflow:global_step/sec: 594.224\n",
      "INFO:tensorflow:loss = 29.221163, step = 7100 (0.168 sec)\n",
      "INFO:tensorflow:global_step/sec: 539.943\n",
      "INFO:tensorflow:loss = 23.900414, step = 7200 (0.186 sec)\n",
      "INFO:tensorflow:global_step/sec: 615.138\n",
      "INFO:tensorflow:loss = 17.164738, step = 7300 (0.162 sec)\n",
      "INFO:tensorflow:global_step/sec: 553.961\n",
      "INFO:tensorflow:loss = 20.12473, step = 7400 (0.182 sec)\n",
      "INFO:tensorflow:global_step/sec: 553.963\n",
      "INFO:tensorflow:loss = 18.860859, step = 7500 (0.181 sec)\n"
     ]
    },
    {
     "name": "stdout",
     "output_type": "stream",
     "text": [
      "INFO:tensorflow:global_step/sec: 560.155\n",
      "INFO:tensorflow:loss = 22.552794, step = 7600 (0.179 sec)\n",
      "INFO:tensorflow:global_step/sec: 593.285\n",
      "INFO:tensorflow:loss = 28.12101, step = 7700 (0.169 sec)\n",
      "INFO:tensorflow:global_step/sec: 615.146\n",
      "INFO:tensorflow:loss = 14.0486145, step = 7800 (0.162 sec)\n",
      "INFO:tensorflow:global_step/sec: 618.939\n",
      "INFO:tensorflow:loss = 33.660362, step = 7900 (0.163 sec)\n",
      "INFO:tensorflow:Calling checkpoint listeners before saving checkpoint 8000...\n",
      "INFO:tensorflow:Saving checkpoints for 8000 into C:\\Users\\mhatr\\AppData\\Local\\Temp\\tmp1dmo7nxn\\model.ckpt.\n",
      "INFO:tensorflow:Calling checkpoint listeners after saving checkpoint 8000...\n",
      "INFO:tensorflow:Loss for final step: 25.313293.\n"
     ]
    },
    {
     "data": {
      "text/plain": [
       "<tensorflow_estimator.python.estimator.canned.linear.LinearRegressorV2 at 0x24eefe67ac0>"
      ]
     },
     "execution_count": 10,
     "metadata": {},
     "output_type": "execute_result"
    }
   ],
   "source": [
    "linear_est.train(input_fn = lambda : input_fn(xtrain ,ytrain ))"
   ]
  },
  {
   "cell_type": "code",
   "execution_count": 11,
   "metadata": {},
   "outputs": [
    {
     "name": "stdout",
     "output_type": "stream",
     "text": [
      "INFO:tensorflow:Calling model_fn.\n",
      "INFO:tensorflow:Done calling model_fn.\n",
      "INFO:tensorflow:Starting evaluation at 2021-05-14T10:12:19Z\n",
      "INFO:tensorflow:Graph was finalized.\n",
      "INFO:tensorflow:Restoring parameters from C:\\Users\\mhatr\\AppData\\Local\\Temp\\tmp1dmo7nxn\\model.ckpt-8000\n",
      "INFO:tensorflow:Running local_init_op.\n",
      "INFO:tensorflow:Done running local_init_op.\n",
      "INFO:tensorflow:Inference Time : 0.58425s\n",
      "INFO:tensorflow:Finished evaluation at 2021-05-14-10:12:20\n",
      "INFO:tensorflow:Saving dict for global step 8000: average_loss = 31.801754, global_step = 8000, label/mean = 22.898214, loss = 24.721199, prediction/mean = 23.201134\n",
      "INFO:tensorflow:Saving 'checkpoint_path' summary for global step 8000: C:\\Users\\mhatr\\AppData\\Local\\Temp\\tmp1dmo7nxn\\model.ckpt-8000\n"
     ]
    }
   ],
   "source": [
    "result = linear_est.evaluate(input_fn = lambda:input_fn(xtest , ytest , epochs = 10 , shuffle = False , batch_size=100 ))"
   ]
  },
  {
   "cell_type": "code",
   "execution_count": 12,
   "metadata": {},
   "outputs": [
    {
     "data": {
      "text/plain": [
       "{'average_loss': 31.801754,\n",
       " 'label/mean': 22.898214,\n",
       " 'loss': 24.721199,\n",
       " 'prediction/mean': 23.201134,\n",
       " 'global_step': 8000}"
      ]
     },
     "execution_count": 12,
     "metadata": {},
     "output_type": "execute_result"
    }
   ],
   "source": [
    "result"
   ]
  },
  {
   "cell_type": "code",
   "execution_count": null,
   "metadata": {},
   "outputs": [],
   "source": []
  },
  {
   "cell_type": "code",
   "execution_count": null,
   "metadata": {},
   "outputs": [],
   "source": []
  }
 ],
 "metadata": {
  "kernelspec": {
   "display_name": "Python 3",
   "language": "python",
   "name": "python3"
  },
  "language_info": {
   "codemirror_mode": {
    "name": "ipython",
    "version": 3
   },
   "file_extension": ".py",
   "mimetype": "text/x-python",
   "name": "python",
   "nbconvert_exporter": "python",
   "pygments_lexer": "ipython3",
   "version": "3.8.5"
  }
 },
 "nbformat": 4,
 "nbformat_minor": 4
}
